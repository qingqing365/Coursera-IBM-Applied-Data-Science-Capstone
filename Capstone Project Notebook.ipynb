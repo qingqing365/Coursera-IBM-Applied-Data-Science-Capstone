{
    "cells": [
        {
            "cell_type": "markdown",
            "metadata": {
                "collapsed": true
            },
            "source": "# Setting up a Food Business in London: Market Research"
        },
        {
            "cell_type": "markdown",
            "metadata": {},
            "source": "This project explores data relating to resturants in London as part of a market research providing insights into restaurants in London"
        },
        {
            "cell_type": "markdown",
            "metadata": {},
            "source": "## Business Objective"
        },
        {
            "cell_type": "markdown",
            "metadata": {},
            "source": "London is a very large and dynamic city with many restaurants and cuisines on offer. If we are to start a food business, the first question we encounter is what kind of cuisine should we offer and where should we offer it. This project looks like neighborhoods in London and most popular cuisines in these areas, providing business insights into our food business."
        },
        {
            "cell_type": "markdown",
            "metadata": {},
            "source": "## Data Sources"
        },
        {
            "cell_type": "markdown",
            "metadata": {},
            "source": "Four Square API data for resturants in London\nLondon Borough data with geo coordinates"
        },
        {
            "cell_type": "markdown",
            "metadata": {},
            "source": "## Data cleaning and enrichment"
        },
        {
            "cell_type": "markdown",
            "metadata": {},
            "source": "First, I find the wikipedia page containing information about London neighbourhood. The I convert the values into longitude and latitude values.With the geographic coordinates of London, I create a map with the neighborhoods. I them Creating a dataframe with all the venues information provided by foursquare for the given latitude and longitude values.Then I Extracting only restaurants from venue category list and creating a new dataframe."
        },
        {
            "cell_type": "markdown",
            "metadata": {},
            "source": "Next, I group the rows by neighborhood and taking the mean of the frequency of occurrence of each category/restaurants. I cluster the neighborhoods by K-means clustering.Using this I create a new data frame with the top 10 venues for each neighborhood. With this information, I can now explore each clusters individually."
        },
        {
            "cell_type": "markdown",
            "metadata": {},
            "source": "## Conclusions"
        },
        {
            "cell_type": "markdown",
            "metadata": {},
            "source": "Using the above I found out that overall Indian and Chinese resturants are popular in London. Adjacent places tend to have the same most popular resturants."
        },
        {
            "cell_type": "markdown",
            "metadata": {},
            "source": "Using the exploray tool, we can zoom in on each cluster to explore the popularity of different cuisions in that area which will aid us in our food business selection."
        },
        {
            "cell_type": "markdown",
            "metadata": {},
            "source": "Note that some of the data are not sufficiently nuances for example some resturants just have the category as \"resturant\" without furtuer clarifying the cuisine."
        },
        {
            "cell_type": "markdown",
            "metadata": {},
            "source": "Further analysis could be performed to provide more nuance to the explory tool such as with ratings and reviews and average spending."
        },
        {
            "cell_type": "code",
            "execution_count": null,
            "metadata": {},
            "outputs": [],
            "source": ""
        }
    ],
    "metadata": {
        "kernelspec": {
            "display_name": "Python 3.6",
            "language": "python",
            "name": "python3"
        },
        "language_info": {
            "codemirror_mode": {
                "name": "ipython",
                "version": 3
            },
            "file_extension": ".py",
            "mimetype": "text/x-python",
            "name": "python",
            "nbconvert_exporter": "python",
            "pygments_lexer": "ipython3",
            "version": "3.6.9"
        }
    },
    "nbformat": 4,
    "nbformat_minor": 1
}