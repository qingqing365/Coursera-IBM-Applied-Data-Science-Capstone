{
    "cells": [
        {
            "cell_type": "markdown",
            "metadata": {
                "collapsed": true
            },
            "source": "# Capstone Project - The Battle of Neighborhoods"
        },
        {
            "cell_type": "markdown",
            "metadata": {},
            "source": "# Problem Statement"
        },
        {
            "cell_type": "markdown",
            "metadata": {},
            "source": "Lockdown is being lifted in London and it is time to check out museums in London again. However, we do not want to go to the places where there are too many Covid-19 cases. Where are the best museums in London that are also located in a borough with low Covid-19 cases?"
        },
        {
            "cell_type": "markdown",
            "metadata": {},
            "source": "# Data Description"
        },
        {
            "cell_type": "code",
            "execution_count": null,
            "metadata": {},
            "outputs": [],
            "source": ""
        }
    ],
    "metadata": {
        "kernelspec": {
            "display_name": "Python 3.6",
            "language": "python",
            "name": "python3"
        },
        "language_info": {
            "codemirror_mode": {
                "name": "ipython",
                "version": 3
            },
            "file_extension": ".py",
            "mimetype": "text/x-python",
            "name": "python",
            "nbconvert_exporter": "python",
            "pygments_lexer": "ipython3",
            "version": "3.6.9"
        }
    },
    "nbformat": 4,
    "nbformat_minor": 1
}